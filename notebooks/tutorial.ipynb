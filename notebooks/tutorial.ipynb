{
 "cells": [
  {
   "cell_type": "markdown",
   "id": "2e7ebb39-60a2-4040-af83-ba171beace94",
   "metadata": {},
   "source": [
    "# G4LumaCam Tutorial: From Simulation to Empirical Analysis\n",
    "\n",
    "Tsviki Y. Hirsh\n",
    "\n",
    "March 8th 2025\n",
    "\n",
    "Welcome to the G4LumaCam tutorial! This notebook guides you through simulating optical photons from a point source using lumacam, configuring and optimizing a lens system (e.g., Nikkor 58mm f/0.95), simulating neutron sources, and analyzing the data with the lumacam.Analysis module to reconstruct events. This workflow is designed for users working with optical and radiation detection systems.\n",
    "\n",
    "## Installation\n",
    "\n",
    "### Prerequisites\n",
    "\n",
    "It is recommended to install Geant4 through Docker:\n",
    "\n",
    "```bash\n",
    "docker pull jeffersonlab/geant4:g4v10.6.2-ubuntu24\n",
    "```\n",
    "\n",
    "### Installation Steps\n",
    "\n",
    "1. Clone the repository:\n",
    "   ```bash\n",
    "   git clone https://github.com/TsvikiHirsh/G4LumaCam.git\n",
    "   ```\n",
    "\n",
    "2. Navigate to the cloned directory and install:\n",
    "   ```bash\n",
    "   cd G4LumaCam\n",
    "   pip install .\n",
    "   ```\n",
    "\n",
    "## Tutorial Structure\n",
    "\n",
    "1. Optical Photon Simulation: Simulate optical photons from a point source at different scintillator positions using lumacam.Simulate.\n",
    "2. Lens Optics: Define and optimize a lens system (e.g., Nikkor 58mm f/0.95) to focus optical photons.\n",
    "3. Neutron Source Simulation: Simulate point and uniform neutron sources for further analysis.\n",
    "4. Ray Tracing: Trace photons through the optimized lens system.\n",
    "5. Event Analysis: Use lumacam.Analysis to process and analyze the traced data using `empir`.\n",
    "\n",
    "Let’s dive in!\n"
   ]
  },
  {
   "cell_type": "code",
   "execution_count": 1,
   "id": "27d2c08b-d130-4d65-8456-c125bd4c9345",
   "metadata": {},
   "outputs": [],
   "source": [
    "import lumacam"
   ]
  },
  {
   "cell_type": "markdown",
   "id": "ad604bd9-f54e-4d4a-b82b-350608cf3932",
   "metadata": {},
   "source": [
    "# 1. Optical Photon Simulation: Generate Photon Data from a Point Source\n",
    "## Overview\n",
    "\n",
    "We use lumacam.Simulate to generate optical photons from a point source within a scintillator. Two configurations are simulated: one at 20 mm (edge facing a 45-degree mirror) and one at 10 mm (middle of a 20 mm thick scintillator). This data will be used to optimize the lens system.\n",
    "Key Concepts\n",
    "\n",
    "- Point Source: Emits optical photons with configurable position and direction.\n",
    "- Scintillator Geometry: A 20 mm thick scintillator with a 45-degree mirror reflecting photons.\n",
    "- Output: A DataFrame with photon attributes (x, y, z, dx, dy, dz, toa, wavelength).\n",
    "\n",
    "## Simulation Setup\n",
    "\n",
    "The image below shows a Geant4 simulation of optical photons from a point source within the scintillator, with a 45-degree mirror and a sensor.\n",
    "\n",
    "\n",
    "# Geant4 Simulation of Optical Photons\n",
    "![img](G4LumaCam.png)\n",
    "\n",
    "Figure 1: Geant4 simulation of optical photon trajectories (purple) from a point source in a scintillator (black), reflected by a 45-degree mirror, directed toward a sensor (red). The green line is the optical axis.\n",
    "\n",
    "## Example\n",
    "Simulate optical photons from a point source"
   ]
  },
  {
   "cell_type": "code",
   "execution_count": 2,
   "id": "a30bcc63-d093-47eb-993d-924dd50d017e",
   "metadata": {},
   "outputs": [],
   "source": [
    "# Simulate at 20 mm (edge facing 45-degree mirror)\n",
    "sim = lumacam.Simulate(\"archive/focus_20mm\")\n",
    "config = lumacam.Config.opticalphoton_point()\n",
    "config.position_z = 20"
   ]
  },
  {
   "cell_type": "code",
   "execution_count": 3,
   "id": "367fab26-d8b2-4d50-88c2-9a70e8716c30",
   "metadata": {},
   "outputs": [
    {
     "data": {
      "application/vnd.jupyter.widget-view+json": {
       "model_id": "0811369188f14862ac1e30a5c6d3abb4",
       "version_major": 2,
       "version_minor": 0
      },
      "text/plain": [
       "Simulating:   0%|          | 0/10000 [00:00<?, ?events/s]"
      ]
     },
     "metadata": {},
     "output_type": "display_data"
    }
   ],
   "source": [
    "df = sim.run(config)"
   ]
  },
  {
   "cell_type": "code",
   "execution_count": 4,
   "id": "a557c0c2-8507-4441-8fcc-ac93ee0a4ae2",
   "metadata": {},
   "outputs": [],
   "source": [
    "# Simulate at 10 mm (middle of 20 mm thick scintillator)\n",
    "sim = lumacam.Simulate(\"archive/focus_10mm\")\n",
    "config = lumacam.Config.opticalphoton_point()\n",
    "config.position_z = 10"
   ]
  },
  {
   "cell_type": "code",
   "execution_count": 5,
   "id": "bab5a7a6-4edc-4979-bb46-8c4e721b64a6",
   "metadata": {},
   "outputs": [
    {
     "data": {
      "application/vnd.jupyter.widget-view+json": {
       "model_id": "fa9c5d57822141ac846a815b6ff80470",
       "version_major": 2,
       "version_minor": 0
      },
      "text/plain": [
       "Simulating:   0%|          | 0/10000 [00:00<?, ?events/s]"
      ]
     },
     "metadata": {},
     "output_type": "display_data"
    }
   ],
   "source": [
    "df = sim.run(config)"
   ]
  },
  {
   "cell_type": "markdown",
   "id": "cf99f25d-8842-4355-a068-6e0c94938888",
   "metadata": {},
   "source": [
    "# 2. Lens Optics: Define and Optimize the Lens System\n",
    "## Overview\n",
    "\n",
    "We define a lens system, starting with the Nikkor 58mm f/0.95 lens, and optimize its focus using the simulated photon data. Future versions will support other commercial lenses and the microscope setup of lumacam. The optimization adjusts zfocus (lens movement), zfine (fine focus), and eventually aperture diameter.\n",
    "Key Concepts\n",
    "\n",
    "1. Lens Model: Nikkor 58mm f/0.95 with adjustable zfocus and zfine.\n",
    "2. Ray Tracing: trace_rays propagates photons through the lens.\n",
    "3. Optimization: zscan for coarse tuning, zscan_optimize for fine-tuning with lmfit.\n",
    "\n",
    "## Lens System Visualization\n",
    "\n",
    "The image below depicts the Nikkor 58mm f/0.95 lens system with photon rays passing through multiple lens elements.\n",
    "\n",
    "Nikkor 58mm f/0.95 Lens System\n",
    "\n",
    "Figure 2: Diagram of the Nikkor 58mm f/0.95 lens system, showing photon rays (pink) passing through lens elements (red/orange), converging toward a sensor.\n",
    "\n",
    "## Steps\n",
    "\n",
    "1. Define Lens: Initialize with the Nikkor lens and simulated data.\n",
    "2. Adjust Focus: Use refocus to set initial zfocus and zfine.\n",
    "3. Optimize: Perform coarse and fine tuning.\n",
    "\n",
    "## Example"
   ]
  },
  {
   "cell_type": "code",
   "execution_count": 8,
   "id": "46ff47a7-663e-4e9b-86b5-1cf888bbe489",
   "metadata": {},
   "outputs": [
    {
     "data": {
      "application/vnd.jupyter.widget-view+json": {
       "model_id": "146f26631bd4474c8d2d80f52eb38281",
       "version_major": 2,
       "version_minor": 0
      },
      "text/plain": [
       "Loading simulation data:   0%|          | 0/8 [00:00<?, ?it/s]"
      ]
     },
     "metadata": {},
     "output_type": "display_data"
    },
    {
     "name": "stderr",
     "output_type": "stream",
     "text": [
      "Ignoring fixed y limits to fulfill fixed data aspect with adjustable data limits.\n",
      "Ignoring fixed x limits to fulfill fixed data aspect with adjustable data limits.\n"
     ]
    },
    {
     "data": {
      "image/png": "[encoded data removed]",
      "text/plain": [
       "<InteractiveLayout size 640x480 with 1 Axes>"
      ]
     },
     "metadata": {},
     "output_type": "display_data"
    }
   ],
   "source": [
    "# Code Cell: Define and optimize lens system\n",
    "import lumacam\n",
    "import numpy as np\n",
    "\n",
    "# Initialize lens with Nikkor 58mm f/0.95\n",
    "lens = lumacam.Lens(archive=\"archive/focus_20mm\", kind='Nikkor_58mm_095')\n",
    "\n",
    "# Adjust focus (example values)\n",
    "opm = lens.refocus(zfocus=0, zfine=13.3)\n",
    "lens.plot(opm)  # Visualize lens system"
   ]
  },
  {
   "cell_type": "code",
   "execution_count": 9,
   "id": "87464145-fc3e-44c0-95b2-4e21d9ca8611",
   "metadata": {},
   "outputs": [
    {
     "data": {
      "application/vnd.jupyter.widget-view+json": {
       "model_id": "b8454c7e890c404e91062142bc840fd9",
       "version_major": 2,
       "version_minor": 0
      },
      "text/plain": [
       "Z-scan (zfocus):   0%|          | 0/20 [00:00<?, ?it/s]"
      ]
     },
     "metadata": {},
     "output_type": "display_data"
    },
    {
     "name": "stdout",
     "output_type": "stream",
     "text": [
      "Z-scan completed. Best zfocus: -1.00 with std: 0.018\n"
     ]
    },
    {
     "data": {
      "text/plain": [
       "-10    0.054537\n",
       "-9     0.049136\n",
       "-8     0.043828\n",
       "-7     0.038650\n",
       "-6     0.033661\n",
       "-5     0.028956\n",
       "-4     0.024697\n",
       "-3     0.021152\n",
       "-2     0.018728\n",
       "-1     0.017884\n",
       " 0     0.018832\n",
       " 1     0.021332\n",
       " 2     0.024921\n",
       " 3     0.029198\n",
       " 4     0.033904\n",
       " 5     0.038883\n",
       " 6     0.044044\n",
       " 7     0.049329\n",
       " 8     0.054703\n",
       " 9     0.060145\n",
       "dtype: float64"
      ]
     },
     "execution_count": 9,
     "metadata": {},
     "output_type": "execute_result"
    }
   ],
   "source": [
    "# Coarse optimization with zscan\n",
    "s = lens.zscan(zfocus_range=np.arange(-10, 10, 1), zfine_range=13.3)\n",
    "s"
   ]
  },
  {
   "cell_type": "code",
   "execution_count": 10,
   "id": "157a8733-a36f-4945-894a-8ed13ee825ef",
   "metadata": {},
   "outputs": [
    {
     "data": {
      "text/plain": [
       "<Axes: >"
      ]
     },
     "execution_count": 10,
     "metadata": {},
     "output_type": "execute_result"
    },
    {
     "data": {
      "image/png": "[encoded data removed]",
      "text/plain": [
       "<Figure size 640x480 with 1 Axes>"
      ]
     },
     "metadata": {},
     "output_type": "display_data"
    }
   ],
   "source": [
    "s.plot()"
   ]
  },
  {
   "cell_type": "code",
   "execution_count": 14,
   "id": "eb8438f5-2c71-4b61-a045-b1e81920fc06",
   "metadata": {},
   "outputs": [
    {
     "data": {
      "text/plain": [
       "{'best_zfocus': -1.030000000000001,\n",
       " 'min_std': np.float64(0.017636176821628224),\n",
       " 'traced_fraction': 0.9484536082474226,\n",
       " 'result': <lmfit.minimizer.MinimizerResult at 0x723229930e10>,\n",
       " 'best_zfine': 13.316154174804687}"
      ]
     },
     "execution_count": 14,
     "metadata": {},
     "output_type": "execute_result"
    }
   ],
   "source": [
    "# Fine optimization with zscan_optimize\n",
    "s = lens.zscan_optimize(initial_zfocus=0, initial_zfine=13.3,optimize_param=\"both\")\n",
    "s"
   ]
  },
  {
   "cell_type": "markdown",
   "id": "04da0c77-7d88-44d2-87d1-3f7cd70dec43",
   "metadata": {},
   "source": [
    "# 3. Neutron Source Simulation: Generate Neutron Data\n",
    "## Overview\n",
    "\n",
    "We simulate neutron sources to extend the analysis to radiation events. Two configurations are included: a point source of neutrons and a uniform source with varying energies.\n",
    "## Key Concepts\n",
    "\n",
    "1. Point Source: A focused neutron source at a specific position.\n",
    "2. Uniform Source: A distributed source with variable energies.\n",
    "3. Output: Photon data from neutron interactions, stored in SimPhotons.\n",
    "\n",
    "## Example\n"
   ]
  },
  {
   "cell_type": "code",
   "execution_count": 15,
   "id": "55ae1557-692a-4e3e-9e25-3fbdfa49c79c",
   "metadata": {},
   "outputs": [
    {
     "data": {
      "text/plain": [
       "Configuration:\n",
       "  Particle: neutron\n",
       "  Energy: 10.0 MeV\n",
       "  Position: (0, 0, -1590) cm\n",
       "  Direction: (0, 0, 1)\n",
       "  Shape: Rectangle (0.0001x0.0001 mm)\n",
       "  Angle: iso (max theta: 0 deg)\n",
       "  Events: 2000\n",
       "  Output: sim_data.csv"
      ]
     },
     "execution_count": 15,
     "metadata": {},
     "output_type": "execute_result"
    }
   ],
   "source": [
    "# Point source of neutrons\n",
    "sim = lumacam.Simulate(\"archive/point_neutrons\")\n",
    "config = lumacam.Config.neutrons_uniform()\n",
    "config.num_events = 2000\n",
    "config.position_z = -1590\n",
    "config.max_theta = 0\n",
    "config.halfx = 0.0001\n",
    "config.halfy = 0.0001\n",
    "config.csv_batch_size = 100\n",
    "config.sample_material = \"G4_Galactic\"\n",
    "config"
   ]
  },
  {
   "cell_type": "code",
   "execution_count": 16,
   "id": "6985747e-c61d-4ac5-92c5-9321198dafb0",
   "metadata": {},
   "outputs": [
    {
     "data": {
      "application/vnd.jupyter.widget-view+json": {
       "model_id": "b3180ec934e64754914fce34f9a0131c",
       "version_major": 2,
       "version_minor": 0
      },
      "text/plain": [
       "Simulating:   0%|          | 0/2000 [00:00<?, ?events/s]"
      ]
     },
     "metadata": {},
     "output_type": "display_data"
    }
   ],
   "source": [
    "df = sim.run(config)"
   ]
  },
  {
   "cell_type": "markdown",
   "id": "122b8e09-00a5-4112-9b59-590de97fec1f",
   "metadata": {},
   "source": [
    "Uniform source with different energies"
   ]
  },
  {
   "cell_type": "code",
   "execution_count": 21,
   "id": "22e69fde-913f-438e-8ecb-06b1668426f1",
   "metadata": {},
   "outputs": [],
   "source": [
    "sim = lumacam.Simulate(\"archive/neutrons\")\n",
    "config = lumacam.Config.neutrons_uniform_energy()\n",
    "config.num_events = 2000\n",
    "config.position_z = -1590\n",
    "config.energy_min = 1\n",
    "config.max_theta = 0\n",
    "config.csv_batch_size = 100\n",
    "config.sample_material = \"G4_Galactic\""
   ]
  },
  {
   "cell_type": "code",
   "execution_count": 22,
   "id": "4c50d764-f852-4dac-9df0-437b04e0b4aa",
   "metadata": {},
   "outputs": [
    {
     "data": {
      "application/vnd.jupyter.widget-view+json": {
       "model_id": "0a230a7bed694f55ba2596d310f38779",
       "version_major": 2,
       "version_minor": 0
      },
      "text/plain": [
       "Simulating:   0%|          | 0/2000 [00:00<?, ?events/s]"
      ]
     },
     "metadata": {},
     "output_type": "display_data"
    }
   ],
   "source": [
    "df = sim.run(config)"
   ]
  },
  {
   "cell_type": "code",
   "execution_count": 23,
   "id": "3b7a3887-6b86-475e-a308-65037150e3e2",
   "metadata": {},
   "outputs": [
    {
     "data": {
      "text/html": [
       "<div>\n",
       "<style scoped>\n",
       "    .dataframe tbody tr th:only-of-type {\n",
       "        vertical-align: middle;\n",
       "    }\n",
       "\n",
       "    .dataframe tbody tr th {\n",
       "        vertical-align: top;\n",
       "    }\n",
       "\n",
       "    .dataframe thead th {\n",
       "        text-align: right;\n",
       "    }\n",
       "</style>\n",
       "<table border=\"1\" class=\"dataframe\">\n",
       "  <thead>\n",
       "    <tr style=\"text-align: right;\">\n",
       "      <th></th>\n",
       "      <th>id</th>\n",
       "      <th>parent_id</th>\n",
       "      <th>neutron_id</th>\n",
       "      <th>x</th>\n",
       "      <th>y</th>\n",
       "      <th>z</th>\n",
       "      <th>dx</th>\n",
       "      <th>dy</th>\n",
       "      <th>dz</th>\n",
       "      <th>toa</th>\n",
       "      <th>wavelength</th>\n",
       "      <th>parentName</th>\n",
       "      <th>px</th>\n",
       "      <th>py</th>\n",
       "      <th>pz</th>\n",
       "      <th>parentEnergy</th>\n",
       "      <th>nx</th>\n",
       "      <th>ny</th>\n",
       "      <th>nz</th>\n",
       "      <th>neutronEnergy</th>\n",
       "    </tr>\n",
       "  </thead>\n",
       "  <tbody>\n",
       "    <tr>\n",
       "      <th>0</th>\n",
       "      <td>2112</td>\n",
       "      <td>3</td>\n",
       "      <td>7</td>\n",
       "      <td>-43.07180</td>\n",
       "      <td>10.2173</td>\n",
       "      <td>40</td>\n",
       "      <td>0.088494</td>\n",
       "      <td>-0.023660</td>\n",
       "      <td>0.995796</td>\n",
       "      <td>519</td>\n",
       "      <td>434.014</td>\n",
       "      <td>proton</td>\n",
       "      <td>-45.62070</td>\n",
       "      <td>10.8986</td>\n",
       "      <td>11.31660</td>\n",
       "      <td>0.006278</td>\n",
       "      <td>-35.52910</td>\n",
       "      <td>5.7446</td>\n",
       "      <td>5.31676</td>\n",
       "      <td>2.01626</td>\n",
       "    </tr>\n",
       "    <tr>\n",
       "      <th>1</th>\n",
       "      <td>2478</td>\n",
       "      <td>2</td>\n",
       "      <td>7</td>\n",
       "      <td>-42.61430</td>\n",
       "      <td>13.6683</td>\n",
       "      <td>40</td>\n",
       "      <td>0.058909</td>\n",
       "      <td>-0.015774</td>\n",
       "      <td>0.998139</td>\n",
       "      <td>519</td>\n",
       "      <td>439.451</td>\n",
       "      <td>C12</td>\n",
       "      <td>-44.34090</td>\n",
       "      <td>14.1308</td>\n",
       "      <td>10.74370</td>\n",
       "      <td>0.006278</td>\n",
       "      <td>-35.52910</td>\n",
       "      <td>5.7446</td>\n",
       "      <td>5.31676</td>\n",
       "      <td>2.01626</td>\n",
       "    </tr>\n",
       "    <tr>\n",
       "      <th>2</th>\n",
       "      <td>103</td>\n",
       "      <td>3</td>\n",
       "      <td>10</td>\n",
       "      <td>6.59528</td>\n",
       "      <td>-32.5555</td>\n",
       "      <td>40</td>\n",
       "      <td>-0.058633</td>\n",
       "      <td>0.023068</td>\n",
       "      <td>0.998013</td>\n",
       "      <td>349</td>\n",
       "      <td>412.437</td>\n",
       "      <td>C12</td>\n",
       "      <td>7.93795</td>\n",
       "      <td>-33.0840</td>\n",
       "      <td>17.14610</td>\n",
       "      <td>2.908940</td>\n",
       "      <td>7.93792</td>\n",
       "      <td>-33.0827</td>\n",
       "      <td>17.14570</td>\n",
       "      <td>4.54901</td>\n",
       "    </tr>\n",
       "    <tr>\n",
       "      <th>3</th>\n",
       "      <td>370</td>\n",
       "      <td>3</td>\n",
       "      <td>12</td>\n",
       "      <td>-39.39940</td>\n",
       "      <td>20.4374</td>\n",
       "      <td>40</td>\n",
       "      <td>0.054505</td>\n",
       "      <td>-0.038766</td>\n",
       "      <td>0.997761</td>\n",
       "      <td>596</td>\n",
       "      <td>400.364</td>\n",
       "      <td>C12</td>\n",
       "      <td>7.93795</td>\n",
       "      <td>-33.0840</td>\n",
       "      <td>17.14610</td>\n",
       "      <td>0.382837</td>\n",
       "      <td>-40.35310</td>\n",
       "      <td>21.1171</td>\n",
       "      <td>22.52830</td>\n",
       "      <td>1.53628</td>\n",
       "    </tr>\n",
       "    <tr>\n",
       "      <th>4</th>\n",
       "      <td>903</td>\n",
       "      <td>2</td>\n",
       "      <td>12</td>\n",
       "      <td>-22.64250</td>\n",
       "      <td>16.9356</td>\n",
       "      <td>40</td>\n",
       "      <td>0.097583</td>\n",
       "      <td>0.003585</td>\n",
       "      <td>0.995221</td>\n",
       "      <td>594</td>\n",
       "      <td>404.212</td>\n",
       "      <td>proton</td>\n",
       "      <td>-26.06540</td>\n",
       "      <td>16.8095</td>\n",
       "      <td>5.07988</td>\n",
       "      <td>0.382837</td>\n",
       "      <td>-40.35310</td>\n",
       "      <td>21.1171</td>\n",
       "      <td>22.52830</td>\n",
       "      <td>1.53628</td>\n",
       "    </tr>\n",
       "    <tr>\n",
       "      <th>...</th>\n",
       "      <td>...</td>\n",
       "      <td>...</td>\n",
       "      <td>...</td>\n",
       "      <td>...</td>\n",
       "      <td>...</td>\n",
       "      <td>...</td>\n",
       "      <td>...</td>\n",
       "      <td>...</td>\n",
       "      <td>...</td>\n",
       "      <td>...</td>\n",
       "      <td>...</td>\n",
       "      <td>...</td>\n",
       "      <td>...</td>\n",
       "      <td>...</td>\n",
       "      <td>...</td>\n",
       "      <td>...</td>\n",
       "      <td>...</td>\n",
       "      <td>...</td>\n",
       "      <td>...</td>\n",
       "      <td>...</td>\n",
       "    </tr>\n",
       "    <tr>\n",
       "      <th>3971</th>\n",
       "      <td>2961</td>\n",
       "      <td>4</td>\n",
       "      <td>2325</td>\n",
       "      <td>-34.22940</td>\n",
       "      <td>43.5190</td>\n",
       "      <td>40</td>\n",
       "      <td>0.051817</td>\n",
       "      <td>-0.057319</td>\n",
       "      <td>0.997010</td>\n",
       "      <td>266</td>\n",
       "      <td>435.805</td>\n",
       "      <td>proton</td>\n",
       "      <td>-13.72740</td>\n",
       "      <td>39.6412</td>\n",
       "      <td>33.73680</td>\n",
       "      <td>2.039490</td>\n",
       "      <td>-34.74310</td>\n",
       "      <td>44.0257</td>\n",
       "      <td>29.09030</td>\n",
       "      <td>7.92166</td>\n",
       "    </tr>\n",
       "    <tr>\n",
       "      <th>3972</th>\n",
       "      <td>2624</td>\n",
       "      <td>4</td>\n",
       "      <td>2325</td>\n",
       "      <td>-34.45120</td>\n",
       "      <td>42.8226</td>\n",
       "      <td>40</td>\n",
       "      <td>0.027108</td>\n",
       "      <td>-0.110704</td>\n",
       "      <td>0.993484</td>\n",
       "      <td>264</td>\n",
       "      <td>479.412</td>\n",
       "      <td>proton</td>\n",
       "      <td>-13.72740</td>\n",
       "      <td>39.6412</td>\n",
       "      <td>33.73680</td>\n",
       "      <td>2.039490</td>\n",
       "      <td>-34.74310</td>\n",
       "      <td>44.0257</td>\n",
       "      <td>29.09030</td>\n",
       "      <td>7.92166</td>\n",
       "    </tr>\n",
       "    <tr>\n",
       "      <th>3973</th>\n",
       "      <td>1977</td>\n",
       "      <td>4</td>\n",
       "      <td>2325</td>\n",
       "      <td>-34.46730</td>\n",
       "      <td>43.3783</td>\n",
       "      <td>40</td>\n",
       "      <td>0.026288</td>\n",
       "      <td>-0.061587</td>\n",
       "      <td>0.997755</td>\n",
       "      <td>271</td>\n",
       "      <td>438.959</td>\n",
       "      <td>proton</td>\n",
       "      <td>-13.72740</td>\n",
       "      <td>39.6412</td>\n",
       "      <td>33.73680</td>\n",
       "      <td>2.039490</td>\n",
       "      <td>-34.74310</td>\n",
       "      <td>44.0257</td>\n",
       "      <td>29.09030</td>\n",
       "      <td>7.92166</td>\n",
       "    </tr>\n",
       "    <tr>\n",
       "      <th>3974</th>\n",
       "      <td>9049</td>\n",
       "      <td>4</td>\n",
       "      <td>2325</td>\n",
       "      <td>-34.04480</td>\n",
       "      <td>43.3318</td>\n",
       "      <td>40</td>\n",
       "      <td>0.069939</td>\n",
       "      <td>-0.077240</td>\n",
       "      <td>0.994556</td>\n",
       "      <td>265</td>\n",
       "      <td>428.252</td>\n",
       "      <td>proton</td>\n",
       "      <td>-13.72740</td>\n",
       "      <td>39.6412</td>\n",
       "      <td>33.73680</td>\n",
       "      <td>2.039490</td>\n",
       "      <td>-34.74310</td>\n",
       "      <td>44.0257</td>\n",
       "      <td>29.09030</td>\n",
       "      <td>7.92166</td>\n",
       "    </tr>\n",
       "    <tr>\n",
       "      <th>3975</th>\n",
       "      <td>10648</td>\n",
       "      <td>3</td>\n",
       "      <td>2325</td>\n",
       "      <td>-29.03840</td>\n",
       "      <td>35.4510</td>\n",
       "      <td>40</td>\n",
       "      <td>0.027959</td>\n",
       "      <td>-0.020071</td>\n",
       "      <td>0.999408</td>\n",
       "      <td>263</td>\n",
       "      <td>451.654</td>\n",
       "      <td>C12</td>\n",
       "      <td>-29.04530</td>\n",
       "      <td>35.4556</td>\n",
       "      <td>39.75040</td>\n",
       "      <td>2.039490</td>\n",
       "      <td>-34.74310</td>\n",
       "      <td>44.0257</td>\n",
       "      <td>29.09030</td>\n",
       "      <td>7.92166</td>\n",
       "    </tr>\n",
       "  </tbody>\n",
       "</table>\n",
       "<p>3976 rows × 20 columns</p>\n",
       "</div>"
      ],
      "text/plain": [
       "         id  parent_id  neutron_id         x        y   z        dx        dy  \\\n",
       "0      2112          3           7 -43.07180  10.2173  40  0.088494 -0.023660   \n",
       "1      2478          2           7 -42.61430  13.6683  40  0.058909 -0.015774   \n",
       "2       103          3          10   6.59528 -32.5555  40 -0.058633  0.023068   \n",
       "3       370          3          12 -39.39940  20.4374  40  0.054505 -0.038766   \n",
       "4       903          2          12 -22.64250  16.9356  40  0.097583  0.003585   \n",
       "...     ...        ...         ...       ...      ...  ..       ...       ...   \n",
       "3971   2961          4        2325 -34.22940  43.5190  40  0.051817 -0.057319   \n",
       "3972   2624          4        2325 -34.45120  42.8226  40  0.027108 -0.110704   \n",
       "3973   1977          4        2325 -34.46730  43.3783  40  0.026288 -0.061587   \n",
       "3974   9049          4        2325 -34.04480  43.3318  40  0.069939 -0.077240   \n",
       "3975  10648          3        2325 -29.03840  35.4510  40  0.027959 -0.020071   \n",
       "\n",
       "            dz  toa  wavelength parentName        px       py        pz  \\\n",
       "0     0.995796  519     434.014     proton -45.62070  10.8986  11.31660   \n",
       "1     0.998139  519     439.451        C12 -44.34090  14.1308  10.74370   \n",
       "2     0.998013  349     412.437        C12   7.93795 -33.0840  17.14610   \n",
       "3     0.997761  596     400.364        C12   7.93795 -33.0840  17.14610   \n",
       "4     0.995221  594     404.212     proton -26.06540  16.8095   5.07988   \n",
       "...        ...  ...         ...        ...       ...      ...       ...   \n",
       "3971  0.997010  266     435.805     proton -13.72740  39.6412  33.73680   \n",
       "3972  0.993484  264     479.412     proton -13.72740  39.6412  33.73680   \n",
       "3973  0.997755  271     438.959     proton -13.72740  39.6412  33.73680   \n",
       "3974  0.994556  265     428.252     proton -13.72740  39.6412  33.73680   \n",
       "3975  0.999408  263     451.654        C12 -29.04530  35.4556  39.75040   \n",
       "\n",
       "      parentEnergy        nx       ny        nz  neutronEnergy  \n",
       "0         0.006278 -35.52910   5.7446   5.31676        2.01626  \n",
       "1         0.006278 -35.52910   5.7446   5.31676        2.01626  \n",
       "2         2.908940   7.93792 -33.0827  17.14570        4.54901  \n",
       "3         0.382837 -40.35310  21.1171  22.52830        1.53628  \n",
       "4         0.382837 -40.35310  21.1171  22.52830        1.53628  \n",
       "...            ...       ...      ...       ...            ...  \n",
       "3971      2.039490 -34.74310  44.0257  29.09030        7.92166  \n",
       "3972      2.039490 -34.74310  44.0257  29.09030        7.92166  \n",
       "3973      2.039490 -34.74310  44.0257  29.09030        7.92166  \n",
       "3974      2.039490 -34.74310  44.0257  29.09030        7.92166  \n",
       "3975      2.039490 -34.74310  44.0257  29.09030        7.92166  \n",
       "\n",
       "[3976 rows x 20 columns]"
      ]
     },
     "execution_count": 23,
     "metadata": {},
     "output_type": "execute_result"
    }
   ],
   "source": [
    "df"
   ]
  },
  {
   "cell_type": "markdown",
   "id": "9a014019-063c-4e3a-8606-44c65658c91f",
   "metadata": {},
   "source": [
    "# 4. File Structure Explanation\n",
    "## Overview\n",
    "\n",
    "The G4LumaCam workflow relies on a structured archive folder to store simulation and analysis data. Users must define this archive directory when initializing simulations or analyses.\n",
    "## Directory Structure\n",
    "\n",
    "Below is an example tree structure for the archive/openbeam directory:\n",
    "\n",
    "\n",
    "    archive/openbeam:\n",
    "    ├── SimPhotons\n",
    "    │   ├── macro.mac\n",
    "    │   ├── sim_data_0.csv\n",
    "    │   ├── sim_data_1.csv\n",
    "    │   ├── sim_data_10.csv\n",
    "    │   ├── sim_data_2.csv\n",
    "    │   ├── sim_data_3.csv\n",
    "    │   ├── sim_data_4.csv\n",
    "    │   ├── sim_data_5.csv\n",
    "    │   ├── sim_data_6.csv\n",
    "    │   ├── sim_data_7.csv\n",
    "    │   ├── sim_data_8.csv\n",
    "    │   └── sim_data_9.csv\n",
    "    ├── TracedPhotons\n",
    "    │   ├── traced_sim_data_0.csv\n",
    "    │   ├── traced_sim_data_1.csv\n",
    "    │   ├── traced_sim_data_10.csv\n",
    "    │   ├── traced_sim_data_2.csv\n",
    "    │   ├── traced_sim_data_3.csv\n",
    "    │   ├── traced_sim_data_4.csv\n",
    "    │   ├── traced_sim_data_5.csv\n",
    "    │   ├── traced_sim_data_6.csv\n",
    "    │   ├── traced_sim_data_7.csv\n",
    "    │   ├── traced_sim_data_8.csv\n",
    "    │   └── traced_sim_data_9.csv\n",
    "    ├── PhotonFiles\n",
    "    │   ├── traced_sim_data_0.empirphot\n",
    "    │   ├── traced_sim_data_1.empirphot\n",
    "    │   ├── traced_sim_data_2.empirphot\n",
    "    │   ├── traced_sim_data_3.empirphot\n",
    "    │   ├── traced_sim_data_4.empirphot\n",
    "    │   ├── traced_sim_data_5.empirphot\n",
    "    │   ├── traced_sim_data_6.empirphot\n",
    "    │   ├── traced_sim_data_7.empirphot\n",
    "    │   ├── traced_sim_data_8.empirphot\n",
    "    │   └── traced_sim_data_9.empirphot\n",
    "    ├── EventFiles\n",
    "    │   ├── traced_sim_data_0.empirevent\n",
    "    │   ├── traced_sim_data_1.empirevent\n",
    "    │   ├── traced_sim_data_2.empirevent\n",
    "    │   ├── traced_sim_data_3.empirevent\n",
    "    │   ├── traced_sim_data_4.empirevent\n",
    "    │   ├── traced_sim_data_5.empirevent\n",
    "    │   ├── traced_sim_data_6.empirevent\n",
    "    │   ├── traced_sim_data_7.empirevent\n",
    "    │   ├── traced_sim_data_8.empirevent\n",
    "    │   └── traced_sim_data_9.empirevent\n",
    "    ├── EventResults\n",
    "    │   └── batch_0_results.csv\n",
    "    ├── all_batches_results.csv\n",
    "    ├── binned.empirevent\n",
    "    ├── counts.csv\n",
    "    ├── event_by_event_results.csv\n",
    "    ├── events_with_shape_parameters.csv\n",
    "    ├── parameterEvents.json\n",
    "    └── parameterSettings.json\n",
    "\n",
    "- SimPhotons: Contains raw simulation data (sim_data_*.csv) and configuration files (macro.mac).\n",
    "- TracedPhotons: Stores traced photon data after lens processing (traced_sim_data_*.csv).\n",
    "- EventFiles and PhotonFiles: Hold event and photon data in custom empir formats (.empirevent, .empirphot).\n",
    "- EventResults: Contains analysis results (e.g., batch_0_results.csv)."
   ]
  },
  {
   "cell_type": "markdown",
   "id": "5e4ab0c0-b190-4df4-9628-e4dfffa9593a",
   "metadata": {},
   "source": [
    "# 5. Ray Tracing: Propagate Photons Through the Lens\n",
    "## Overview\n",
    "\n",
    "We trace photons through the optimized lens system using the trace_rays method, leveraging the tuned zfocus and zfine values."
   ]
  },
  {
   "cell_type": "code",
   "execution_count": 24,
   "id": "3b8e0847-f92c-4a5e-83ae-c52bf5d02f7e",
   "metadata": {},
   "outputs": [
    {
     "data": {
      "application/vnd.jupyter.widget-view+json": {
       "model_id": "16033dd6c05042dc8b4402b242d12fdc",
       "version_major": 2,
       "version_minor": 0
      },
      "text/plain": [
       "Loading simulation data:   0%|          | 0/1 [00:00<?, ?it/s]"
      ]
     },
     "metadata": {},
     "output_type": "display_data"
    },
    {
     "data": {
      "application/vnd.jupyter.widget-view+json": {
       "model_id": "6888c996d2714ea1949f507d4137e5e1",
       "version_major": 2,
       "version_minor": 0
      },
      "text/plain": [
       "Processing files:   0%|          | 0/1 [00:00<?, ?it/s]"
      ]
     },
     "metadata": {},
     "output_type": "display_data"
    },
    {
     "data": {
      "application/vnd.jupyter.widget-view+json": {
       "model_id": "0fa309a8ae1c4039b1e077cb7b507d4d",
       "version_major": 2,
       "version_minor": 0
      },
      "text/plain": [
       "Tracing rays (sim_data_0.csv):   0%|          | 0/8 [00:00<?, ?it/s]"
      ]
     },
     "metadata": {},
     "output_type": "display_data"
    },
    {
     "name": "stdout",
     "output_type": "stream",
     "text": [
      "File: sim_data_0.csv - Original events: 3976, Traced events: 3976, Percentage: 100.0%\n"
     ]
    }
   ],
   "source": [
    "lens = lumacam.Lens(archive=\"archive/neutrons\")\n",
    "opm = lens.refocus(zfocus=10/1.58, zfine=13.3) # focus to the center of the scintillator\n",
    "data = lens.trace_rays(print_stats=True, opm=opm, chunk_size=500, n_processes=10)"
   ]
  },
  {
   "cell_type": "markdown",
   "id": "f37fbe72-51ac-4263-9205-6104a6dd44aa",
   "metadata": {},
   "source": [
    "# 6. Event Analysis: Process and Analyze Data\n",
    "## Overview\n",
    "\n",
    "The lumacam.Analysis module processes the traced data to reconstruct neutron or gamma events, offering a streamlined analysis pipeline with customizable parameters.\n",
    "## Key Concepts\n",
    "\n",
    "- Reconstruction: Clusters traced photons to estimate event origins.\n",
    "- Parameters: Adjustable spacing (dSpace_px), time resolution (dTime_s), etc.\n",
    "- Output: A DataFrame with analyzed event data.\n",
    "\n",
    "## Example"
   ]
  },
  {
   "cell_type": "code",
   "execution_count": 25,
   "id": "2f7186e0-f0eb-4c9e-a369-1cea89239b80",
   "metadata": {},
   "outputs": [
    {
     "data": {
      "application/vnd.jupyter.widget-view+json": {
       "model_id": "14df183e01164cd79f20649a0978a8ba",
       "version_major": 2,
       "version_minor": 0
      },
      "text/plain": [
       "Loading traced data:   0%|          | 0/1 [00:00<?, ?it/s]"
      ]
     },
     "metadata": {},
     "output_type": "display_data"
    },
    {
     "data": {
      "application/vnd.jupyter.widget-view+json": {
       "model_id": "8405dd148cea4c6cb8a7a5587133e378",
       "version_major": 2,
       "version_minor": 0
      },
      "text/plain": [
       "Loading sim data:   0%|          | 0/1 [00:00<?, ?it/s]"
      ]
     },
     "metadata": {},
     "output_type": "display_data"
    },
    {
     "data": {
      "application/vnd.jupyter.widget-view+json": {
       "model_id": "aeebf6e59dbe4e21a793d6a451e45484",
       "version_major": 2,
       "version_minor": 0
      },
      "text/plain": [
       "Processing files:   0%|          | 0/1 [00:00<?, ?it/s]"
      ]
     },
     "metadata": {},
     "output_type": "display_data"
    }
   ],
   "source": [
    "openbeam = lumacam.Analysis(archive=\"archive/neutrons\").process_data(dSpace_px=1)"
   ]
  },
  {
   "cell_type": "code",
   "execution_count": 27,
   "id": "4e24b484-7d43-4a5f-853c-6ecfcfbd5af6",
   "metadata": {},
   "outputs": [
    {
     "data": {
      "text/plain": [
       "<Axes: xlabel='stacks'>"
      ]
     },
     "execution_count": 27,
     "metadata": {},
     "output_type": "execute_result"
    },
    {
     "data": {
      "image/png": "[encoded data removed]",
      "text/plain": [
       "<Figure size 640x480 with 1 Axes>"
      ]
     },
     "metadata": {},
     "output_type": "display_data"
    }
   ],
   "source": [
    "openbeam.plot(x=\"stacks\",y=\"counts\",yerr=\"err\")"
   ]
  },
  {
   "cell_type": "markdown",
   "id": "7c4be931-afbf-465f-b976-2f0d1cbc2c38",
   "metadata": {},
   "source": [
    "# Conclusion\n",
    "\n",
    "This tutorial covered the G4LumaCam workflow:\n",
    "\n",
    "- Optical Photon Simulation: Generated photon data from point sources at 20 mm and 10 mm.\n",
    "- Lens Optics: Defined and optimized the Nikkor 58mm f/0.95 lens system.\n",
    "- Neutron Source Simulation: Simulated point and uniform neutron sources.\n",
    "- Ray Tracing: Traced photons through the lens.\n",
    "- Event Analysis: Processed data with lumacam.Analysis to reconstruct events.\n",
    "\n",
    "Customize this workflow by adjusting source positions, lens types, or analysis parameters. Refer to the G4LumaCam documentation for advanced features.\n",
    "\n",
    "Happy experimenting!"
   ]
  }
 ],
 "metadata": {
  "kernelspec": {
   "display_name": "Python 3 (ipykernel)",
   "language": "python",
   "name": "python3"
  },
  "language_info": {
   "codemirror_mode": {
    "name": "ipython",
    "version": 3
   },
   "file_extension": ".py",
   "mimetype": "text/x-python",
   "name": "python",
   "nbconvert_exporter": "python",
   "pygments_lexer": "ipython3",
   "version": "3.13.1"
  }
 },
 "nbformat": 4,
 "nbformat_minor": 5
}
