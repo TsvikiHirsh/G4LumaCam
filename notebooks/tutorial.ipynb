{
 "cells": [
  {
   "cell_type": "markdown",
   "id": "2e7ebb39-60a2-4040-af83-ba171beace94",
   "metadata": {},
   "source": [
    "# G4LumaCam Tutorial: From Simulation to Empirical Analysis\n",
    "\n",
    "Tsviki Y. Hirsh\n",
    "\n",
    "March 8th 2025\n",
    "\n",
    "Welcome to the G4LumaCam tutorial! This notebook guides you through simulating optical photons from a point source using lumacam, configuring and optimizing a lens system (e.g., Nikkor 58mm f/0.95), simulating neutron sources, and analyzing the data with the lumacam.Analysis module to reconstruct events. This workflow is designed for users working with optical and radiation detection systems.\n",
    "\n",
    "## Installation\n",
    "\n",
    "### Prerequisites\n",
    "\n",
    "It is recommended to install Geant4 through Docker:\n",
    "\n",
    "```bash\n",
    "docker pull jeffersonlab/geant4:g4v10.6.2-ubuntu24\n",
    "```\n",
    "\n",
    "### Installation Steps\n",
    "\n",
    "1. Clone the repository:\n",
    "   ```bash\n",
    "   git clone https://github.com/TsvikiHirsh/G4LumaCam.git\n",
    "   ```\n",
    "\n",
    "2. Navigate to the cloned directory and install:\n",
    "   ```bash\n",
    "   cd G4LumaCam\n",
    "   pip install .\n",
    "   ```\n",
    "\n",
    "## Tutorial Structure\n",
    "\n",
    "1. Optical Photon Simulation: Simulate optical photons from a point source at different scintillator positions using lumacam.Simulate.\n",
    "2. Lens Optics: Define and optimize a lens system (e.g., Nikkor 58mm f/0.95) to focus optical photons.\n",
    "3. Neutron Source Simulation: Simulate point and uniform neutron sources for further analysis.\n",
    "4. Ray Tracing: Trace photons through the optimized lens system.\n",
    "5. Event Analysis: Use lumacam.Analysis to process and analyze the traced data using `empir`.\n",
    "\n",
    "Let’s dive in!\n"
   ]
  },
  {
   "cell_type": "code",
   "execution_count": 1,
   "id": "27d2c08b-d130-4d65-8456-c125bd4c9345",
   "metadata": {},
   "outputs": [],
   "source": [
    "import lumacam"
   ]
  },
  {
   "cell_type": "markdown",
   "id": "ad604bd9-f54e-4d4a-b82b-350608cf3932",
   "metadata": {},
   "source": [
    "# 1. Optical Photon Simulation: Generate Photon Data from a Point Source\n",
    "## Overview\n",
    "\n",
    "We use lumacam.Simulate to generate optical photons from a point source within a scintillator. Two configurations are simulated: one at 20 mm (edge facing a 45-degree mirror) and one at 10 mm (middle of a 20 mm thick scintillator). This data will be used to optimize the lens system.\n",
    "Key Concepts\n",
    "\n",
    "- Point Source: Emits optical photons with configurable position and direction.\n",
    "- Scintillator Geometry: A 20 mm thick scintillator with a 45-degree mirror reflecting photons.\n",
    "- Output: A DataFrame with photon attributes (x, y, z, dx, dy, dz, toa, wavelength).\n",
    "\n",
    "## Simulation Setup\n",
    "\n",
    "The image below shows a Geant4 simulation of optical photons from a point source within the scintillator, with a 45-degree mirror and a sensor.\n",
    "\n",
    "\n",
    "# Geant4 Simulation of Optical Photons\n",
    "![img](G4LumaCam.png)\n",
    "\n",
    "Figure 1: Geant4 simulation of optical photon trajectories (purple) from a point source in a scintillator (black), reflected by a 45-degree mirror, directed toward a sensor (red). The green line is the optical axis.\n",
    "\n",
    "## Example\n",
    "Simulate optical photons from a point source"
   ]
  },
  {
   "cell_type": "code",
   "execution_count": 5,
   "id": "a30bcc63-d093-47eb-993d-924dd50d017e",
   "metadata": {},
   "outputs": [],
   "source": [
    "# Simulate at 20 mm (edge facing 45-degree mirror)\n",
    "sim = lumacam.Simulate(\"tutorial_archive/focus_20mm\")\n",
    "config = lumacam.Config.opticalphoton_point()\n",
    "config.position_z = 20"
   ]
  },
  {
   "cell_type": "code",
   "execution_count": 6,
   "id": "367fab26-d8b2-4d50-88c2-9a70e8716c30",
   "metadata": {},
   "outputs": [
    {
     "data": {
      "application/vnd.jupyter.widget-view+json": {
       "model_id": "fca634049e27489e9f543e38daa4a61a",
       "version_major": 2,
       "version_minor": 0
      },
      "text/plain": [
       "Simulating:   0%|          | 0/10000 [00:00<?, ?events/s]"
      ]
     },
     "metadata": {},
     "output_type": "display_data"
    }
   ],
   "source": [
    "df = sim.run(config)"
   ]
  },
  {
   "cell_type": "code",
   "execution_count": 7,
   "id": "a557c0c2-8507-4441-8fcc-ac93ee0a4ae2",
   "metadata": {},
   "outputs": [],
   "source": [
    "# Simulate at 10 mm (middle of 20 mm thick scintillator)\n",
    "sim = lumacam.Simulate(\"tutorial_archive/focus_10mm\")\n",
    "config = lumacam.Config.opticalphoton_point()\n",
    "config.position_z = 10"
   ]
  },
  {
   "cell_type": "code",
   "execution_count": 8,
   "id": "bab5a7a6-4edc-4979-bb46-8c4e721b64a6",
   "metadata": {},
   "outputs": [
    {
     "data": {
      "application/vnd.jupyter.widget-view+json": {
       "model_id": "599e2f7f15084139a811603f4b44183d",
       "version_major": 2,
       "version_minor": 0
      },
      "text/plain": [
       "Simulating:   0%|          | 0/10000 [00:00<?, ?events/s]"
      ]
     },
     "metadata": {},
     "output_type": "display_data"
    }
   ],
   "source": [
    "df = sim.run(config)"
   ]
  },
  {
   "cell_type": "markdown",
   "id": "cf99f25d-8842-4355-a068-6e0c94938888",
   "metadata": {},
   "source": [
    "# 2. Lens Optics: Define and Optimize the Lens System\n",
    "## Overview\n",
    "\n",
    "We define a lens system, starting with the Nikkor 58mm f/0.95 lens, and optimize its focus using the simulated photon data. Future versions will support other commercial lenses and the microscope setup of lumacam. The optimization adjusts zfocus (lens movement), zfine (fine focus), and eventually aperture diameter.\n",
    "Key Concepts\n",
    "\n",
    "1. Lens Model: Nikkor 58mm f/0.95 with adjustable zfocus and zfine.\n",
    "2. Ray Tracing: trace_rays propagates photons through the lens.\n",
    "3. Optimization: zscan for coarse tuning, zscan_optimize for fine-tuning with lmfit.\n",
    "\n",
    "## Lens System Visualization\n",
    "\n",
    "The image below depicts the Nikkor 58mm f/0.95 lens system with photon rays passing through multiple lens elements.\n",
    "\n",
    "Nikkor 58mm f/0.95 Lens System\n",
    "\n",
    "Figure 2: Diagram of the Nikkor 58mm f/0.95 lens system, showing photon rays (pink) passing through lens elements (red/orange), converging toward a sensor.\n",
    "\n",
    "## Steps\n",
    "\n",
    "1. Define Lens: Initialize with the Nikkor lens and simulated data.\n",
    "2. Adjust Focus: Use refocus to set initial zfocus and zfine.\n",
    "3. Optimize: Perform coarse and fine tuning.\n",
    "\n",
    "## Example"
   ]
  },
  {
   "cell_type": "code",
   "execution_count": 9,
   "id": "46ff47a7-663e-4e9b-86b5-1cf888bbe489",
   "metadata": {},
   "outputs": [
    {
     "data": {
      "application/vnd.jupyter.widget-view+json": {
       "model_id": "978d00469ccd4b07b218485bdd85fe50",
       "version_major": 2,
       "version_minor": 0
      },
      "text/plain": [
       "Loading simulation data:   0%|          | 0/1 [00:00<?, ?it/s]"
      ]
     },
     "metadata": {},
     "output_type": "display_data"
    },
    {
     "name": "stderr",
     "output_type": "stream",
     "text": [
      "Ignoring fixed y limits to fulfill fixed data aspect with adjustable data limits.\n",
      "Ignoring fixed x limits to fulfill fixed data aspect with adjustable data limits.\n"
     ]
    },
    {
     "data": {
      "image/png": "[encoded data removed]",
      "text/plain": [
       "<InteractiveLayout size 640x480 with 1 Axes>"
      ]
     },
     "metadata": {},
     "output_type": "display_data"
    }
   ],
   "source": [
    "# Code Cell: Define and optimize lens system\n",
    "import lumacam\n",
    "import numpy as np\n",
    "\n",
    "# Initialize lens with Nikkor 58mm f/0.95\n",
    "lens = lumacam.Lens(archive=\"tutorial_archive/focus_20mm\", kind='Nikkor_58mm_095')\n",
    "\n",
    "# Adjust focus (example values)\n",
    "opm = lens.refocus(zfocus=0, zfine=13.3)\n",
    "lens.plot(opm)  # Visualize lens system"
   ]
  },
  {
   "cell_type": "code",
   "execution_count": 10,
   "id": "87464145-fc3e-44c0-95b2-4e21d9ca8611",
   "metadata": {},
   "outputs": [
    {
     "data": {
      "text/plain": [
       "-10    0.122820\n",
       "-9     0.117663\n",
       "-8     0.112506\n",
       "-7     0.107349\n",
       "-6     0.102193\n",
       "-5     0.097037\n",
       "-4     0.091880\n",
       "-3     0.086724\n",
       "-2     0.081569\n",
       "-1     0.076413\n",
       " 0     0.071258\n",
       " 1     0.066103\n",
       " 2     0.060948\n",
       " 3     0.055794\n",
       " 4     0.050640\n",
       " 5     0.045487\n",
       " 6     0.040334\n",
       " 7     0.035182\n",
       " 8     0.030032\n",
       " 9     0.024884\n",
       " 10    0.019739\n",
       " 11    0.014601\n",
       " 12    0.009483\n",
       " 13    0.004447\n",
       " 14    0.001663\n",
       "dtype: float64"
      ]
     },
     "execution_count": 10,
     "metadata": {},
     "output_type": "execute_result"
    }
   ],
   "source": [
    "# Coarse optimization with zscan\n",
    "s = lens.zscan(zfocus_range=np.arange(-10, 15, 1), zfine_range=13.3)\n",
    "s"
   ]
  },
  {
   "cell_type": "code",
   "execution_count": 11,
   "id": "157a8733-a36f-4945-894a-8ed13ee825ef",
   "metadata": {},
   "outputs": [
    {
     "data": {
      "text/plain": [
       "<Axes: >"
      ]
     },
     "execution_count": 11,
     "metadata": {},
     "output_type": "execute_result"
    },
    {
     "data": {
      "image/png": "[encoded data removed]",
      "text/plain": [
       "<Figure size 640x480 with 1 Axes>"
      ]
     },
     "metadata": {},
     "output_type": "display_data"
    }
   ],
   "source": [
    "s.plot()"
   ]
  },
  {
   "cell_type": "code",
   "execution_count": 12,
   "id": "eb8438f5-2c71-4b61-a045-b1e81920fc06",
   "metadata": {},
   "outputs": [
    {
     "name": "stdout",
     "output_type": "stream",
     "text": [
      "Starting optimization for zfocus with initial value 0.000\n",
      "Optimized zfocus: 13.820, min std: 0.001, traced fraction: 100.00%\n",
      "Starting optimization for zfine with initial value 13.300\n",
      "Optimized zfine: 13.300, min std: 0.001, traced fraction: 100.00%\n"
     ]
    },
    {
     "data": {
      "text/plain": [
       "{'best_zfocus': 13.820125000000015,\n",
       " 'min_std': np.float64(0.001381043869709298),\n",
       " 'traced_fraction': 1.0,\n",
       " 'result': <lmfit.minimizer.MinimizerResult at 0x74dd44d396d0>,\n",
       " 'best_zfine': 13.3}"
      ]
     },
     "execution_count": 12,
     "metadata": {},
     "output_type": "execute_result"
    }
   ],
   "source": [
    "# Fine optimization with zscan_optimize\n",
    "s = lens.zscan_optimize(initial_zfocus=0, initial_zfine=13.3,optimize_param=\"both\")\n",
    "s"
   ]
  },
  {
   "cell_type": "markdown",
   "id": "04da0c77-7d88-44d2-87d1-3f7cd70dec43",
   "metadata": {},
   "source": [
    "# 3. Neutron Source Simulation: Generate Neutron Data\n",
    "## Overview\n",
    "\n",
    "We simulate neutron sources to extend the analysis to radiation events. Two configurations are included: a point source of neutrons and a uniform source with varying energies.\n",
    "## Key Concepts\n",
    "\n",
    "1. Point Source: A focused neutron source at a specific position.\n",
    "2. Uniform Source: A distributed source with variable energies.\n",
    "3. Output: Photon data from neutron interactions, stored in SimPhotons.\n",
    "\n",
    "## Example\n"
   ]
  },
  {
   "cell_type": "code",
   "execution_count": 13,
   "id": "55ae1557-692a-4e3e-9e25-3fbdfa49c79c",
   "metadata": {},
   "outputs": [
    {
     "data": {
      "text/plain": [
       "Configuration:\n",
       "  Particle: neutron\n",
       "  Energy: 10.0 MeV\n",
       "  Position: (0, 0, -1085) cm\n",
       "  Direction: (0, 0, 1)\n",
       "  Shape: Rectangle (0.0001x0.0001 mm)\n",
       "  Angle: iso (max theta: 0 deg)\n",
       "  Events: 2000\n",
       "  Output: sim_data.csv"
      ]
     },
     "execution_count": 13,
     "metadata": {},
     "output_type": "execute_result"
    }
   ],
   "source": [
    "# Point source of neutrons\n",
    "sim = lumacam.Simulate(\"tutorial_archive/point_neutrons\")\n",
    "config = lumacam.Config.neutrons_uniform()\n",
    "config.num_events = 2000\n",
    "config.position_z = -1085\n",
    "config.max_theta = 0\n",
    "config.halfx = 0.0001\n",
    "config.halfy = 0.0001\n",
    "config.csv_batch_size = 100\n",
    "config.sample_material = \"G4_Galactic\"\n",
    "config"
   ]
  },
  {
   "cell_type": "code",
   "execution_count": 14,
   "id": "6985747e-c61d-4ac5-92c5-9321198dafb0",
   "metadata": {},
   "outputs": [
    {
     "data": {
      "application/vnd.jupyter.widget-view+json": {
       "model_id": "995937d157de4b638d6e3a1b9d3c6a72",
       "version_major": 2,
       "version_minor": 0
      },
      "text/plain": [
       "Simulating:   0%|          | 0/2000 [00:00<?, ?events/s]"
      ]
     },
     "metadata": {},
     "output_type": "display_data"
    }
   ],
   "source": [
    "df = sim.run(config)"
   ]
  },
  {
   "cell_type": "markdown",
   "id": "122b8e09-00a5-4112-9b59-590de97fec1f",
   "metadata": {},
   "source": [
    "Uniform source with different energies"
   ]
  },
  {
   "cell_type": "code",
   "execution_count": 15,
   "id": "22e69fde-913f-438e-8ecb-06b1668426f1",
   "metadata": {},
   "outputs": [],
   "source": [
    "sim = lumacam.Simulate(\"tutorial_archive/neutrons\")\n",
    "config = lumacam.Config.neutrons_uniform_energy()\n",
    "config.num_events = 2000\n",
    "config.position_z = -1590\n",
    "config.energy_min = 1\n",
    "config.max_theta = 0\n",
    "config.csv_batch_size = 100\n",
    "config.sample_material = \"G4_Galactic\""
   ]
  },
  {
   "cell_type": "code",
   "execution_count": 16,
   "id": "4c50d764-f852-4dac-9df0-437b04e0b4aa",
   "metadata": {},
   "outputs": [
    {
     "data": {
      "application/vnd.jupyter.widget-view+json": {
       "model_id": "bcedba63c36f480b8d24a5959e7f59ec",
       "version_major": 2,
       "version_minor": 0
      },
      "text/plain": [
       "Simulating:   0%|          | 0/2000 [00:00<?, ?events/s]"
      ]
     },
     "metadata": {},
     "output_type": "display_data"
    }
   ],
   "source": [
    "df = sim.run(config)"
   ]
  },
  {
   "cell_type": "code",
   "execution_count": 17,
   "id": "3b7a3887-6b86-475e-a308-65037150e3e2",
   "metadata": {},
   "outputs": [
    {
     "data": {
      "text/html": [
       "<div>\n",
       "<style scoped>\n",
       "    .dataframe tbody tr th:only-of-type {\n",
       "        vertical-align: middle;\n",
       "    }\n",
       "\n",
       "    .dataframe tbody tr th {\n",
       "        vertical-align: top;\n",
       "    }\n",
       "\n",
       "    .dataframe thead th {\n",
       "        text-align: right;\n",
       "    }\n",
       "</style>\n",
       "<table border=\"1\" class=\"dataframe\">\n",
       "  <thead>\n",
       "    <tr style=\"text-align: right;\">\n",
       "      <th></th>\n",
       "      <th>id</th>\n",
       "      <th>parent_id</th>\n",
       "      <th>neutron_id</th>\n",
       "      <th>x</th>\n",
       "      <th>y</th>\n",
       "      <th>z</th>\n",
       "      <th>dx</th>\n",
       "      <th>dy</th>\n",
       "      <th>dz</th>\n",
       "      <th>toa</th>\n",
       "      <th>wavelength</th>\n",
       "      <th>parentName</th>\n",
       "      <th>px</th>\n",
       "      <th>py</th>\n",
       "      <th>pz</th>\n",
       "      <th>parentEnergy</th>\n",
       "      <th>nx</th>\n",
       "      <th>ny</th>\n",
       "      <th>nz</th>\n",
       "      <th>neutronEnergy</th>\n",
       "    </tr>\n",
       "  </thead>\n",
       "  <tbody>\n",
       "    <tr>\n",
       "      <th>0</th>\n",
       "      <td>156</td>\n",
       "      <td>3</td>\n",
       "      <td>1</td>\n",
       "      <td>-32.40930</td>\n",
       "      <td>15.1646</td>\n",
       "      <td>20</td>\n",
       "      <td>0.045088</td>\n",
       "      <td>-0.051888</td>\n",
       "      <td>0.997635</td>\n",
       "      <td>815.974</td>\n",
       "      <td>479.372</td>\n",
       "      <td>NaN</td>\n",
       "      <td>0.00000</td>\n",
       "      <td>0.0000</td>\n",
       "      <td>0.00000</td>\n",
       "      <td>0.558407</td>\n",
       "      <td>-33.31070</td>\n",
       "      <td>16.1826</td>\n",
       "      <td>0.440309</td>\n",
       "      <td>2.01626</td>\n",
       "    </tr>\n",
       "    <tr>\n",
       "      <th>1</th>\n",
       "      <td>8938</td>\n",
       "      <td>2</td>\n",
       "      <td>3</td>\n",
       "      <td>54.31500</td>\n",
       "      <td>-25.3928</td>\n",
       "      <td>20</td>\n",
       "      <td>-0.066270</td>\n",
       "      <td>0.050431</td>\n",
       "      <td>0.996526</td>\n",
       "      <td>382.329</td>\n",
       "      <td>447.560</td>\n",
       "      <td>C12</td>\n",
       "      <td>57.40310</td>\n",
       "      <td>-23.3628</td>\n",
       "      <td>10.30070</td>\n",
       "      <td>2.321840</td>\n",
       "      <td>54.82220</td>\n",
       "      <td>-25.7431</td>\n",
       "      <td>13.200400</td>\n",
       "      <td>9.21395</td>\n",
       "    </tr>\n",
       "    <tr>\n",
       "      <th>2</th>\n",
       "      <td>8099</td>\n",
       "      <td>2</td>\n",
       "      <td>3</td>\n",
       "      <td>54.30220</td>\n",
       "      <td>-25.7021</td>\n",
       "      <td>20</td>\n",
       "      <td>-0.066040</td>\n",
       "      <td>0.003916</td>\n",
       "      <td>0.997809</td>\n",
       "      <td>381.871</td>\n",
       "      <td>447.330</td>\n",
       "      <td>C12</td>\n",
       "      <td>57.40310</td>\n",
       "      <td>-23.3628</td>\n",
       "      <td>10.30070</td>\n",
       "      <td>2.321840</td>\n",
       "      <td>54.82220</td>\n",
       "      <td>-25.7431</td>\n",
       "      <td>13.200400</td>\n",
       "      <td>9.21395</td>\n",
       "    </tr>\n",
       "    <tr>\n",
       "      <th>3</th>\n",
       "      <td>7825</td>\n",
       "      <td>2</td>\n",
       "      <td>3</td>\n",
       "      <td>53.69390</td>\n",
       "      <td>-25.3573</td>\n",
       "      <td>20</td>\n",
       "      <td>-0.153209</td>\n",
       "      <td>0.054681</td>\n",
       "      <td>0.986680</td>\n",
       "      <td>382.195</td>\n",
       "      <td>427.339</td>\n",
       "      <td>C12</td>\n",
       "      <td>57.40310</td>\n",
       "      <td>-23.3628</td>\n",
       "      <td>10.30070</td>\n",
       "      <td>2.321840</td>\n",
       "      <td>54.82220</td>\n",
       "      <td>-25.7431</td>\n",
       "      <td>13.200400</td>\n",
       "      <td>9.21395</td>\n",
       "    </tr>\n",
       "    <tr>\n",
       "      <th>4</th>\n",
       "      <td>7568</td>\n",
       "      <td>2</td>\n",
       "      <td>3</td>\n",
       "      <td>53.84650</td>\n",
       "      <td>-25.6702</td>\n",
       "      <td>20</td>\n",
       "      <td>-0.137784</td>\n",
       "      <td>0.009641</td>\n",
       "      <td>0.990415</td>\n",
       "      <td>386.381</td>\n",
       "      <td>427.198</td>\n",
       "      <td>C12</td>\n",
       "      <td>57.40310</td>\n",
       "      <td>-23.3628</td>\n",
       "      <td>10.30070</td>\n",
       "      <td>2.321840</td>\n",
       "      <td>54.82220</td>\n",
       "      <td>-25.7431</td>\n",
       "      <td>13.200400</td>\n",
       "      <td>9.21395</td>\n",
       "    </tr>\n",
       "    <tr>\n",
       "      <th>...</th>\n",
       "      <td>...</td>\n",
       "      <td>...</td>\n",
       "      <td>...</td>\n",
       "      <td>...</td>\n",
       "      <td>...</td>\n",
       "      <td>...</td>\n",
       "      <td>...</td>\n",
       "      <td>...</td>\n",
       "      <td>...</td>\n",
       "      <td>...</td>\n",
       "      <td>...</td>\n",
       "      <td>...</td>\n",
       "      <td>...</td>\n",
       "      <td>...</td>\n",
       "      <td>...</td>\n",
       "      <td>...</td>\n",
       "      <td>...</td>\n",
       "      <td>...</td>\n",
       "      <td>...</td>\n",
       "      <td>...</td>\n",
       "    </tr>\n",
       "    <tr>\n",
       "      <th>2035</th>\n",
       "      <td>9216</td>\n",
       "      <td>2</td>\n",
       "      <td>983</td>\n",
       "      <td>-43.59350</td>\n",
       "      <td>58.5042</td>\n",
       "      <td>20</td>\n",
       "      <td>0.120886</td>\n",
       "      <td>-0.080289</td>\n",
       "      <td>0.989414</td>\n",
       "      <td>545.210</td>\n",
       "      <td>423.896</td>\n",
       "      <td>proton</td>\n",
       "      <td>-48.44010</td>\n",
       "      <td>48.5073</td>\n",
       "      <td>6.36973</td>\n",
       "      <td>0.001335</td>\n",
       "      <td>-41.18170</td>\n",
       "      <td>48.7291</td>\n",
       "      <td>2.007340</td>\n",
       "      <td>4.50175</td>\n",
       "    </tr>\n",
       "    <tr>\n",
       "      <th>2036</th>\n",
       "      <td>107</td>\n",
       "      <td>2</td>\n",
       "      <td>984</td>\n",
       "      <td>5.14104</td>\n",
       "      <td>16.7873</td>\n",
       "      <td>20</td>\n",
       "      <td>-0.029902</td>\n",
       "      <td>-0.053902</td>\n",
       "      <td>0.998098</td>\n",
       "      <td>622.462</td>\n",
       "      <td>471.679</td>\n",
       "      <td>proton</td>\n",
       "      <td>5.25921</td>\n",
       "      <td>17.0003</td>\n",
       "      <td>16.05630</td>\n",
       "      <td>3.269610</td>\n",
       "      <td>5.25843</td>\n",
       "      <td>16.9983</td>\n",
       "      <td>16.055600</td>\n",
       "      <td>3.44086</td>\n",
       "    </tr>\n",
       "    <tr>\n",
       "      <th>2037</th>\n",
       "      <td>62</td>\n",
       "      <td>2</td>\n",
       "      <td>984</td>\n",
       "      <td>5.19385</td>\n",
       "      <td>17.0749</td>\n",
       "      <td>20</td>\n",
       "      <td>-0.016505</td>\n",
       "      <td>0.019064</td>\n",
       "      <td>0.999682</td>\n",
       "      <td>624.245</td>\n",
       "      <td>454.442</td>\n",
       "      <td>proton</td>\n",
       "      <td>5.25921</td>\n",
       "      <td>17.0003</td>\n",
       "      <td>16.05630</td>\n",
       "      <td>3.269610</td>\n",
       "      <td>5.25843</td>\n",
       "      <td>16.9983</td>\n",
       "      <td>16.055600</td>\n",
       "      <td>3.44086</td>\n",
       "    </tr>\n",
       "    <tr>\n",
       "      <th>2038</th>\n",
       "      <td>2665</td>\n",
       "      <td>2</td>\n",
       "      <td>986</td>\n",
       "      <td>23.93570</td>\n",
       "      <td>52.9451</td>\n",
       "      <td>20</td>\n",
       "      <td>-0.023429</td>\n",
       "      <td>-0.067550</td>\n",
       "      <td>0.997441</td>\n",
       "      <td>699.682</td>\n",
       "      <td>449.485</td>\n",
       "      <td>proton</td>\n",
       "      <td>24.31800</td>\n",
       "      <td>54.0318</td>\n",
       "      <td>4.22372</td>\n",
       "      <td>0.176291</td>\n",
       "      <td>17.91530</td>\n",
       "      <td>45.1676</td>\n",
       "      <td>7.371880</td>\n",
       "      <td>2.73405</td>\n",
       "    </tr>\n",
       "    <tr>\n",
       "      <th>2039</th>\n",
       "      <td>322</td>\n",
       "      <td>2</td>\n",
       "      <td>986</td>\n",
       "      <td>23.17520</td>\n",
       "      <td>52.8157</td>\n",
       "      <td>20</td>\n",
       "      <td>-0.071772</td>\n",
       "      <td>-0.076314</td>\n",
       "      <td>0.994497</td>\n",
       "      <td>709.951</td>\n",
       "      <td>414.545</td>\n",
       "      <td>proton</td>\n",
       "      <td>24.31800</td>\n",
       "      <td>54.0318</td>\n",
       "      <td>4.22372</td>\n",
       "      <td>0.176291</td>\n",
       "      <td>17.91530</td>\n",
       "      <td>45.1676</td>\n",
       "      <td>7.371880</td>\n",
       "      <td>2.73405</td>\n",
       "    </tr>\n",
       "  </tbody>\n",
       "</table>\n",
       "<p>2040 rows × 20 columns</p>\n",
       "</div>"
      ],
      "text/plain": [
       "        id  parent_id  neutron_id         x        y   z        dx        dy  \\\n",
       "0      156          3           1 -32.40930  15.1646  20  0.045088 -0.051888   \n",
       "1     8938          2           3  54.31500 -25.3928  20 -0.066270  0.050431   \n",
       "2     8099          2           3  54.30220 -25.7021  20 -0.066040  0.003916   \n",
       "3     7825          2           3  53.69390 -25.3573  20 -0.153209  0.054681   \n",
       "4     7568          2           3  53.84650 -25.6702  20 -0.137784  0.009641   \n",
       "...    ...        ...         ...       ...      ...  ..       ...       ...   \n",
       "2035  9216          2         983 -43.59350  58.5042  20  0.120886 -0.080289   \n",
       "2036   107          2         984   5.14104  16.7873  20 -0.029902 -0.053902   \n",
       "2037    62          2         984   5.19385  17.0749  20 -0.016505  0.019064   \n",
       "2038  2665          2         986  23.93570  52.9451  20 -0.023429 -0.067550   \n",
       "2039   322          2         986  23.17520  52.8157  20 -0.071772 -0.076314   \n",
       "\n",
       "            dz      toa  wavelength parentName        px       py        pz  \\\n",
       "0     0.997635  815.974     479.372        NaN   0.00000   0.0000   0.00000   \n",
       "1     0.996526  382.329     447.560        C12  57.40310 -23.3628  10.30070   \n",
       "2     0.997809  381.871     447.330        C12  57.40310 -23.3628  10.30070   \n",
       "3     0.986680  382.195     427.339        C12  57.40310 -23.3628  10.30070   \n",
       "4     0.990415  386.381     427.198        C12  57.40310 -23.3628  10.30070   \n",
       "...        ...      ...         ...        ...       ...      ...       ...   \n",
       "2035  0.989414  545.210     423.896     proton -48.44010  48.5073   6.36973   \n",
       "2036  0.998098  622.462     471.679     proton   5.25921  17.0003  16.05630   \n",
       "2037  0.999682  624.245     454.442     proton   5.25921  17.0003  16.05630   \n",
       "2038  0.997441  699.682     449.485     proton  24.31800  54.0318   4.22372   \n",
       "2039  0.994497  709.951     414.545     proton  24.31800  54.0318   4.22372   \n",
       "\n",
       "      parentEnergy        nx       ny         nz  neutronEnergy  \n",
       "0         0.558407 -33.31070  16.1826   0.440309        2.01626  \n",
       "1         2.321840  54.82220 -25.7431  13.200400        9.21395  \n",
       "2         2.321840  54.82220 -25.7431  13.200400        9.21395  \n",
       "3         2.321840  54.82220 -25.7431  13.200400        9.21395  \n",
       "4         2.321840  54.82220 -25.7431  13.200400        9.21395  \n",
       "...            ...       ...      ...        ...            ...  \n",
       "2035      0.001335 -41.18170  48.7291   2.007340        4.50175  \n",
       "2036      3.269610   5.25843  16.9983  16.055600        3.44086  \n",
       "2037      3.269610   5.25843  16.9983  16.055600        3.44086  \n",
       "2038      0.176291  17.91530  45.1676   7.371880        2.73405  \n",
       "2039      0.176291  17.91530  45.1676   7.371880        2.73405  \n",
       "\n",
       "[2040 rows x 20 columns]"
      ]
     },
     "execution_count": 17,
     "metadata": {},
     "output_type": "execute_result"
    }
   ],
   "source": [
    "df"
   ]
  },
  {
   "cell_type": "markdown",
   "id": "9a014019-063c-4e3a-8606-44c65658c91f",
   "metadata": {},
   "source": [
    "# 4. File Structure Explanation\n",
    "## Overview\n",
    "\n",
    "The G4LumaCam workflow relies on a structured archive folder to store simulation and analysis data. Users must define this archive directory when initializing simulations or analyses.\n",
    "## Directory Structure\n",
    "\n",
    "Below is an example tree structure for the archive/openbeam directory:\n",
    "\n",
    "\n",
    "    archive/openbeam:\n",
    "    ├── SimPhotons\n",
    "    │   ├── macro.mac\n",
    "    │   ├── sim_data_0.csv\n",
    "    │   ├── sim_data_1.csv\n",
    "    │   ├── sim_data_10.csv\n",
    "    │   ├── sim_data_2.csv\n",
    "    │   ├── sim_data_3.csv\n",
    "    │   ├── sim_data_4.csv\n",
    "    │   ├── sim_data_5.csv\n",
    "    │   ├── sim_data_6.csv\n",
    "    │   ├── sim_data_7.csv\n",
    "    │   ├── sim_data_8.csv\n",
    "    │   └── sim_data_9.csv\n",
    "    ├── TracedPhotons\n",
    "    │   ├── traced_sim_data_0.csv\n",
    "    │   ├── traced_sim_data_1.csv\n",
    "    │   ├── traced_sim_data_10.csv\n",
    "    │   ├── traced_sim_data_2.csv\n",
    "    │   ├── traced_sim_data_3.csv\n",
    "    │   ├── traced_sim_data_4.csv\n",
    "    │   ├── traced_sim_data_5.csv\n",
    "    │   ├── traced_sim_data_6.csv\n",
    "    │   ├── traced_sim_data_7.csv\n",
    "    │   ├── traced_sim_data_8.csv\n",
    "    │   └── traced_sim_data_9.csv\n",
    "    ├── PhotonFiles\n",
    "    │   ├── traced_sim_data_0.empirphot\n",
    "    │   ├── traced_sim_data_1.empirphot\n",
    "    │   ├── traced_sim_data_2.empirphot\n",
    "    │   ├── traced_sim_data_3.empirphot\n",
    "    │   ├── traced_sim_data_4.empirphot\n",
    "    │   ├── traced_sim_data_5.empirphot\n",
    "    │   ├── traced_sim_data_6.empirphot\n",
    "    │   ├── traced_sim_data_7.empirphot\n",
    "    │   ├── traced_sim_data_8.empirphot\n",
    "    │   └── traced_sim_data_9.empirphot\n",
    "    ├── EventFiles\n",
    "    │   ├── traced_sim_data_0.empirevent\n",
    "    │   ├── traced_sim_data_1.empirevent\n",
    "    │   ├── traced_sim_data_2.empirevent\n",
    "    │   ├── traced_sim_data_3.empirevent\n",
    "    │   ├── traced_sim_data_4.empirevent\n",
    "    │   ├── traced_sim_data_5.empirevent\n",
    "    │   ├── traced_sim_data_6.empirevent\n",
    "    │   ├── traced_sim_data_7.empirevent\n",
    "    │   ├── traced_sim_data_8.empirevent\n",
    "    │   └── traced_sim_data_9.empirevent\n",
    "    ├── EventResults\n",
    "    │   └── batch_0_results.csv\n",
    "    ├── all_batches_results.csv\n",
    "    ├── binned.empirevent\n",
    "    ├── counts.csv\n",
    "    ├── event_by_event_results.csv\n",
    "    ├── events_with_shape_parameters.csv\n",
    "    ├── parameterEvents.json\n",
    "    └── parameterSettings.json\n",
    "\n",
    "- SimPhotons: Contains raw simulation data (sim_data_*.csv) and configuration files (macro.mac).\n",
    "- TracedPhotons: Stores traced photon data after lens processing (traced_sim_data_*.csv).\n",
    "- EventFiles and PhotonFiles: Hold event and photon data in custom empir formats (.empirevent, .empirphot).\n",
    "- EventResults: Contains analysis results (e.g., batch_0_results.csv)."
   ]
  },
  {
   "cell_type": "markdown",
   "id": "5e4ab0c0-b190-4df4-9628-e4dfffa9593a",
   "metadata": {},
   "source": [
    "# 5. Ray Tracing: Propagate Photons Through the Lens\n",
    "## Overview\n",
    "\n",
    "We trace photons through the optimized lens system using the trace_rays method, leveraging the tuned zfocus and zfine values."
   ]
  },
  {
   "cell_type": "code",
   "execution_count": 20,
   "id": "3b8e0847-f92c-4a5e-83ae-c52bf5d02f7e",
   "metadata": {},
   "outputs": [
    {
     "data": {
      "application/vnd.jupyter.widget-view+json": {
       "model_id": "2a0acce97f6044919c2d4eb9f9eb7f9c",
       "version_major": 2,
       "version_minor": 0
      },
      "text/plain": [
       "Loading simulation data:   0%|          | 0/1 [00:00<?, ?it/s]"
      ]
     },
     "metadata": {},
     "output_type": "display_data"
    },
    {
     "data": {
      "application/vnd.jupyter.widget-view+json": {
       "model_id": "05487ba04f4743e6a2631e11a464d82a",
       "version_major": 2,
       "version_minor": 0
      },
      "text/plain": [
       "Processing files:   0%|          | 0/1 [00:00<?, ?it/s]"
      ]
     },
     "metadata": {},
     "output_type": "display_data"
    },
    {
     "data": {
      "application/vnd.jupyter.widget-view+json": {
       "model_id": "817f15d48e2c45e58774a5908e46a7be",
       "version_major": 2,
       "version_minor": 0
      },
      "text/plain": [
       "Tracing rays (sim_data_0.csv):   0%|          | 0/5 [00:00<?, ?it/s]"
      ]
     },
     "metadata": {},
     "output_type": "display_data"
    },
    {
     "name": "stdout",
     "output_type": "stream",
     "text": [
      "File: sim_data_0.csv - Original events: 2040, Traced events: 2039, Percentage: 100.0%\n"
     ]
    }
   ],
   "source": [
    "lens = lumacam.Lens(archive=\"tutorial_archive/neutrons\")\n",
    "opm = lens.refocus(zfocus=10/1.58, zfine=13.3) # focus to the center of the scintillator\n",
    "data = lens.trace_rays(print_stats=True, opm=opm, chunk_size=500, n_processes=10)"
   ]
  },
  {
   "cell_type": "markdown",
   "id": "f37fbe72-51ac-4263-9205-6104a6dd44aa",
   "metadata": {},
   "source": [
    "# 6. Event Analysis: Process and Analyze Data\n",
    "## Overview\n",
    "\n",
    "The lumacam.Analysis module processes the traced data to reconstruct neutron or gamma events, offering a streamlined analysis pipeline with customizable parameters.\n",
    "## Key Concepts\n",
    "\n",
    "- Reconstruction: Clusters traced photons to estimate event origins.\n",
    "- Parameters: Adjustable spacing (dSpace_px), time resolution (dTime_s), etc.\n",
    "- Output: A DataFrame with analyzed event data.\n",
    "\n",
    "## Example"
   ]
  },
  {
   "cell_type": "code",
   "execution_count": 25,
   "id": "2f7186e0-f0eb-4c9e-a369-1cea89239b80",
   "metadata": {},
   "outputs": [
    {
     "data": {
      "application/vnd.jupyter.widget-view+json": {
       "model_id": "4714a8a86cfc4e7a911b732d97c1fec5",
       "version_major": 2,
       "version_minor": 0
      },
      "text/plain": [
       "Loading traced data:   0%|          | 0/1 [00:00<?, ?it/s]"
      ]
     },
     "metadata": {},
     "output_type": "display_data"
    },
    {
     "data": {
      "application/vnd.jupyter.widget-view+json": {
       "model_id": "27090bdaba02445fab938b57c16dab94",
       "version_major": 2,
       "version_minor": 0
      },
      "text/plain": [
       "Loading sim data:   0%|          | 0/1 [00:00<?, ?it/s]"
      ]
     },
     "metadata": {},
     "output_type": "display_data"
    },
    {
     "data": {
      "application/vnd.jupyter.widget-view+json": {
       "model_id": "def64dd10c4f421c922d0e9c6f6c020c",
       "version_major": 2,
       "version_minor": 0
      },
      "text/plain": [
       "Processing files:   0%|          | 0/1 [00:00<?, ?it/s]"
      ]
     },
     "metadata": {},
     "output_type": "display_data"
    }
   ],
   "source": [
    "openbeam = lumacam.Analysis(archive=\"tutorial_archive/neutrons\").process_data(dSpace_px=1)"
   ]
  },
  {
   "cell_type": "code",
   "execution_count": 22,
   "id": "4e24b484-7d43-4a5f-853c-6ecfcfbd5af6",
   "metadata": {},
   "outputs": [
    {
     "data": {
      "text/plain": [
       "<Axes: xlabel='stacks'>"
      ]
     },
     "execution_count": 22,
     "metadata": {},
     "output_type": "execute_result"
    },
    {
     "data": {
      "image/png": "[encoded data removed]",
      "text/plain": [
       "<Figure size 640x480 with 1 Axes>"
      ]
     },
     "metadata": {},
     "output_type": "display_data"
    }
   ],
   "source": [
    "openbeam.plot(x=\"stacks\",y=\"counts\",yerr=\"err\")"
   ]
  },
  {
   "cell_type": "markdown",
   "id": "ac403528-bd4a-4faa-a074-1524ccd2cdb7",
   "metadata": {},
   "source": [
    "## Event by event process\n",
    "\n",
    "This method allows to use process the data through empir, event by event"
   ]
  },
  {
   "cell_type": "code",
   "execution_count": null,
   "id": "75e06e90-cc92-4d5b-9cba-e9cde1034289",
   "metadata": {},
   "outputs": [
    {
     "data": {
      "application/vnd.jupyter.widget-view+json": {
       "model_id": "d926827a8cb04287b1e3bff2fd3b5097",
       "version_major": 2,
       "version_minor": 0
      },
      "text/plain": [
       "Loading traced data:   0%|          | 0/1 [00:00<?, ?it/s]"
      ]
     },
     "metadata": {},
     "output_type": "display_data"
    },
    {
     "data": {
      "application/vnd.jupyter.widget-view+json": {
       "model_id": "899b7e58d394424595f6f71c658261ba",
       "version_major": 2,
       "version_minor": 0
      },
      "text/plain": [
       "Loading sim data:   0%|          | 0/1 [00:00<?, ?it/s]"
      ]
     },
     "metadata": {},
     "output_type": "display_data"
    },
    {
     "data": {
      "application/vnd.jupyter.widget-view+json": {
       "model_id": "d88b7e0b909a42c8a708d8c0ba9e0229",
       "version_major": 2,
       "version_minor": 0
      },
      "text/plain": [
       "Processing neutron events:   0%|          | 0/302 [00:00<?, ?it/s]"
      ]
     },
     "metadata": {},
     "output_type": "display_data"
    }
   ],
   "source": [
    "openbeam = lumacam.Analysis(archive=\"tutorial_archive/neutrons\").process_data_event_by_event(dSpace_px=1,suffix=\"event_by_event\",merge=True)"
   ]
  },
  {
   "cell_type": "markdown",
   "id": "7c4be931-afbf-465f-b976-2f0d1cbc2c38",
   "metadata": {},
   "source": [
    "# Conclusion\n",
    "\n",
    "This tutorial covered the G4LumaCam workflow:\n",
    "\n",
    "- Optical Photon Simulation: Generated photon data from point sources at 20 mm and 10 mm.\n",
    "- Lens Optics: Defined and optimized the Nikkor 58mm f/0.95 lens system.\n",
    "- Neutron Source Simulation: Simulated point and uniform neutron sources.\n",
    "- Ray Tracing: Traced photons through the lens.\n",
    "- Event Analysis: Processed data with lumacam.Analysis to reconstruct events.\n",
    "\n",
    "Customize this workflow by adjusting source positions, lens types, or analysis parameters. Refer to the G4LumaCam documentation for advanced features.\n",
    "\n",
    "Happy experimenting!"
   ]
  },
  {
   "cell_type": "code",
   "execution_count": null,
   "id": "50810304-5a64-43a1-bb52-ed8908239f58",
   "metadata": {},
   "outputs": [],
   "source": []
  }
 ],
 "metadata": {
  "kernelspec": {
   "display_name": "Python 3 (ipykernel)",
   "language": "python",
   "name": "python3"
  },
  "language_info": {
   "codemirror_mode": {
    "name": "ipython",
    "version": 3
   },
   "file_extension": ".py",
   "mimetype": "text/x-python",
   "name": "python",
   "nbconvert_exporter": "python",
   "pygments_lexer": "ipython3",
   "version": "3.13.1"
  }
 },
 "nbformat": 4,
 "nbformat_minor": 5
}
